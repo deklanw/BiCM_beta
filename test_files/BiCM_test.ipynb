{
 "cells": [
  {
   "cell_type": "code",
   "execution_count": 1,
   "metadata": {},
   "outputs": [],
   "source": [
    "import numpy as np\n",
    "import sys \n",
    "sys.path.append('..')\n",
    "from functions import bicm_calculator, projection_calculator, bicm_light, projection_calculator_light, indexes_edgelist"
   ]
  },
  {
   "cell_type": "code",
   "execution_count": 3,
   "metadata": {},
   "outputs": [],
   "source": [
    "user_dict_dtype = np.dtype([('user_id', np.int64), ('user_name', 'U40'), ('verified', '?')])\n",
    "user_list = np.loadtxt('user_dict.csv',  dtype=user_dict_dtype, delimiter=',')\n",
    "user_name_dict = dict(zip(user_list['user_id'], user_list['user_name']))"
   ]
  },
  {
   "cell_type": "code",
   "execution_count": null,
   "metadata": {},
   "outputs": [],
   "source": [
    "g_bip_vunv = np.loadtxt('global_v_vunv.csv', dtype=np.dtype([('v_user_id', float), ('unv_user_id', float)]))\n",
    "g_bip_vunv = g_bip_vunv.astype(np.dtype([('v_user_id', np.uint64), ('unv_user_id', np.uint64)]))\n",
    "\n",
    "vus, k_vus = np.unique(g_bip_vunv['v_user_id'], return_counts=True)\n",
    "unvus, k_unvus = np.unique(g_bip_vunv['unv_user_id'], return_counts=True)"
   ]
  },
  {
   "cell_type": "markdown",
   "metadata": {},
   "source": [
    "### Using the fast methods:"
   ]
  },
  {
   "cell_type": "code",
   "execution_count": 7,
   "metadata": {},
   "outputs": [],
   "source": [
    "edgelist, rows_degs, cols_degs, invert_rows_dict, invert_cols_dict  = indexes_edgelist(g_bip_vunv)"
   ]
  },
  {
   "cell_type": "code",
   "execution_count": 10,
   "metadata": {},
   "outputs": [
    {
     "name": "stdout",
     "output_type": "stream",
     "text": [
      "max rows error = 7.139533408917487e-10\n",
      "max columns error = 1.3021477229813172e-09\n",
      "total error = 7.1899055598123596e-09\n"
     ]
    }
   ],
   "source": [
    "x, y = bicm_light(rows_degs, cols_degs, method='newton')"
   ]
  },
  {
   "cell_type": "code",
   "execution_count": 11,
   "metadata": {},
   "outputs": [
    {
     "data": {
      "application/vnd.jupyter.widget-view+json": {
       "model_id": "10465297da374ab988bfa92a1cf59022",
       "version_major": 2,
       "version_minor": 0
      },
      "text/plain": [
       "HBox(children=(IntProgress(value=0, max=1797), HTML(value='')))"
      ]
     },
     "metadata": {},
     "output_type": "display_data"
    },
    {
     "name": "stdout",
     "output_type": "stream",
     "text": [
      "\n"
     ]
    }
   ],
   "source": [
    "val_couples = projection_calculator_light(edgelist, x, y)"
   ]
  },
  {
   "cell_type": "markdown",
   "metadata": {},
   "source": [
    "### Using the matrix methods:"
   ]
  },
  {
   "cell_type": "code",
   "execution_count": 4,
   "metadata": {},
   "outputs": [],
   "source": [
    "biad_mat = np.zeros((len(vus), len(unvus)), dtype=int)\n",
    "for link in g_bip_vunv:\n",
    "    biad_mat[np.where(vus == link['v_user_id'])[0][0], np.where(unvus == link['unv_user_id'])[0][0]] = 1"
   ]
  },
  {
   "cell_type": "code",
   "execution_count": 5,
   "metadata": {},
   "outputs": [
    {
     "name": "stdout",
     "output_type": "stream",
     "text": [
      "max rows error = 2.6702490885099905e-08\n",
      "max columns error = 4.36740310760797e-06\n",
      "total error = 7.259093936928807e-05\n"
     ]
    }
   ],
   "source": [
    "avg_mat = bicm_calculator(biad_mat, method='iterative')"
   ]
  },
  {
   "cell_type": "code",
   "execution_count": 6,
   "metadata": {},
   "outputs": [
    {
     "data": {
      "application/vnd.jupyter.widget-view+json": {
       "model_id": "f68ca18aa7bb4eb381e79d3f88668547",
       "version_major": 2,
       "version_minor": 0
      },
      "text/plain": [
       "HBox(children=(IntProgress(value=0, max=1797), HTML(value='')))"
      ]
     },
     "metadata": {},
     "output_type": "display_data"
    },
    {
     "name": "stdout",
     "output_type": "stream",
     "text": [
      "\n"
     ]
    }
   ],
   "source": [
    "val_couples2 = projection_calculator(biad_mat, avg_mat)"
   ]
  },
  {
   "cell_type": "markdown",
   "metadata": {},
   "source": [
    "### Printing the results"
   ]
  },
  {
   "cell_type": "code",
   "execution_count": 18,
   "metadata": {},
   "outputs": [],
   "source": [
    "projection_edge_list = []\n",
    "for couple in val_couples:  # Try the differences using val_couples2: it yields the same results\n",
    "    edge_names = (user_name_dict[vus[couple[0]]], user_name_dict[vus[couple[1]]])\n",
    "    projection_edge_list.append((edge_names[0], edge_names[1]))"
   ]
  },
  {
   "cell_type": "code",
   "execution_count": 19,
   "metadata": {},
   "outputs": [
    {
     "name": "stdout",
     "output_type": "stream",
     "text": [
      "[('SkyTG24', 'MediasetTgcom24'), ('antoniopalmieri', 'DeborahBergamin'), ('antoniopalmieri', 'forza_italia'), ('pdnetwork', 'DarioStefano'), ('pdnetwork', 'MonicaCirinna'), ('pdnetwork', 'FrancescoBonif1'), ('LegaSalvini', 'Giorgiolaporta'), ('LegaSalvini', 'GiorgiaMeloni'), ('LegaSalvini', 'Capezzone'), ('LegaSalvini', 'matteosalvinimi'), ('LegaSalvini', 'zaiapresidente'), ('LegaSalvini', 'Noiconsalvini'), ('civati', 'giornalettismo'), ('robertosaviano', 'ckyenge'), ('Giorgiolaporta', 'Capezzone'), ('Giorgiolaporta', 'matteosalvinimi'), ('Giorgiolaporta', 'zaiapresidente'), ('Giorgiolaporta', 'Noiconsalvini'), ('repubblica', 'eziomauro'), ('Adnkronos', 'Agenzia_Ansa'), ('Adnkronos', 'MediasetTgcom24'), ('Affaritaliani', 'MediasetTgcom24'), ('fattoquotidiano', 'PiazzapulitaLA7'), ('fattoquotidiano', 'F_DUva'), ('fattoquotidiano', 'petergomezblog'), ('fattoquotidiano', 'marcotravaglio'), ('giornalettismo', 'ckyenge'), ('giornalettismo', 'antoniomisiani'), ('DavidSassoli', 'ckyenge'), ('DavidSassoli', 'DarioStefano'), ('DavidSassoli', 'antoniomisiani'), ('DavidSassoli', 'eziomauro'), ('DavidSassoli', 'FrancescoBonif1'), ('DavidSassoli', 'vittoriozucconi'), ('Agenzia_Italia', 'Agenzia_Ansa'), ('Agenzia_Italia', 'TgLa7'), ('lucatelese', 'FicarraePicone'), ('lucatelese', 'ADS4AFP'), ('robertapinotti', 'FrancescoBonif1'), ('mauroberruto', 'andrearossi76'), ('GiorgiaMeloni', 'FratellidItaIia'), ('GiorgiaMeloni', 'Noiconsalvini'), ('ckyenge', 'DarioStefano'), ('ckyenge', 'MonicaCirinna'), ('ckyenge', 'antoniomisiani'), ('ckyenge', 'vittoriozucconi'), ('Capezzone', 'matteosalvinimi'), ('Capezzone', 'zaiapresidente'), ('forza_italia', 'GruppoFICamera'), ('Agenzia_Ansa', 'petergomezblog'), ('Agenzia_Ansa', 'Corriere'), ('Agenzia_Ansa', 'TgLa7'), ('F_DUva', 'petergomezblog'), ('F_DUva', 'marcotravaglio'), ('Ettore_Rosato', 'DarioStefano'), ('matteosalvinimi', 'zaiapresidente'), ('petergomezblog', 'marcotravaglio'), ('petergomezblog', 'mattino5'), ('DarioStefano', 'MonicaCirinna'), ('DarioStefano', 'antoniomisiani'), ('DarioStefano', 'maumartina'), ('DarioStefano', 'FrancescoBonif1'), ('DarioStefano', 'vittoriozucconi'), ('DarioStefano', 'AlessiaMorani'), ('DarioStefano', 'TeresaBellanova'), ('MediasetTgcom24', 'TgLa7'), ('MonicaCirinna', 'antoniomisiani'), ('MonicaCirinna', 'FrancescoBonif1'), ('antoniomisiani', 'MinoTaricco'), ('antoniomisiani', 'FrancescoBonif1'), ('antoniomisiani', 'TeresaBellanova'), ('eziomauro', 'FrancescoBonif1'), ('eziomauro', 'vittoriozucconi'), ('Maurizio_Lupi', 'valeriafedeli'), ('FicarraePicone', 'ADS4AFP'), ('maumartina', 'vittoriozucconi'), ('FrancescoBonif1', 'vittoriozucconi'), ('FrancescoBonif1', 'AlessiaMorani'), ('vittoriozucconi', 'AlessiaMorani'), ('zaiapresidente', 'Noiconsalvini')]\n"
     ]
    }
   ],
   "source": [
    "print(projection_edge_list)"
   ]
  },
  {
   "cell_type": "code",
   "execution_count": null,
   "metadata": {},
   "outputs": [],
   "source": []
  }
 ],
 "metadata": {
  "kernelspec": {
   "display_name": "Python 3",
   "language": "python",
   "name": "python3"
  },
  "language_info": {
   "codemirror_mode": {
    "name": "ipython",
    "version": 3
   },
   "file_extension": ".py",
   "mimetype": "text/x-python",
   "name": "python",
   "nbconvert_exporter": "python",
   "pygments_lexer": "ipython3",
   "version": "3.5.5"
  }
 },
 "nbformat": 4,
 "nbformat_minor": 2
}
